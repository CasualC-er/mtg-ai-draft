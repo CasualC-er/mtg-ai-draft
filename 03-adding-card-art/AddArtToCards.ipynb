{
 "cells": [
  {
   "cell_type": "code",
   "execution_count": null,
   "metadata": {},
   "outputs": [],
   "source": [
    "import requests\n",
    "import urllib\n",
    "import io\n",
    "from PIL import Image\n",
    "import os\n",
    "from dotenv import load_dotenv\n",
    "\n",
    "load_dotenv()"
   ]
  },
  {
   "cell_type": "code",
   "execution_count": null,
   "metadata": {},
   "outputs": [],
   "source": [
    "\n",
    "def get_art_from_api(text_prompt):\n",
    "\n",
    "    img_request = requests.post(\n",
    "        \"https://api.deepai.org/api/text2img\",\n",
    "        data={\n",
    "            'text': text_prompt,\n",
    "        },\n",
    "        headers={'api-key': os.getenv(\"DEEP_AI_API_KEY\")}\n",
    "    ).json()\n",
    "    img_url = img_request['output_url']\n",
    "\n",
    "    img_res = urllib.request.urlopen(img_url).read()\n",
    "    img = Image.open(io.BytesIO(img_res))\n",
    "    \n",
    "    w, h = img.size\n",
    "    img = img.crop((0, 0, w/2, h/2))\n",
    "    img = img.resize((300,220))\n",
    "    return img\n",
    "    \n",
    "\n",
    "def put_art_on_card(card, art):\n",
    "    card.paste(art, (35,65))"
   ]
  },
  {
   "cell_type": "code",
   "execution_count": null,
   "metadata": {},
   "outputs": [],
   "source": [
    "from glob import glob\n",
    "import re\n",
    "def get_card_names_from_folder(folder_name):\n",
    "    image_files = glob(f\"../output/{folder_name}/*.jpg\")\n",
    "    image_files.sort()\n",
    "    image_names = []\n",
    "    for card in image_files:\n",
    "        card_name = card.replace(f'../output/{folder_name}/','')\n",
    "        card_name = card_name.replace(\".jpg\",\"\")\n",
    "        card_name = re.sub(\"[\\(\\[].*?[\\)\\]]\", \"\", card_name)\n",
    "        card_name = card_name.replace(\"_\",\"\")\n",
    "        image_names.append(card_name)\n",
    "\n",
    "    return list(zip(image_files,image_names))"
   ]
  },
  {
   "cell_type": "code",
   "execution_count": null,
   "metadata": {},
   "outputs": [],
   "source": [
    "def image_to_bytes(image) -> bytes:\n",
    "  imgByteArr = io.BytesIO()\n",
    "  image.save(imgByteArr, format=\"JPEG\")\n",
    "  imgByteArr = imgByteArr.getvalue()\n",
    "  return imgByteArr"
   ]
  },
  {
   "cell_type": "code",
   "execution_count": null,
   "metadata": {},
   "outputs": [],
   "source": [
    "def generate_final_image(card_name, file_location):\n",
    "        card_img = Image.open(file_location)\n",
    "        cardImg.value = image_to_bytes(card_img)\n",
    "        card_art = get_art_from_api(card_name)\n",
    "        cardImg.value = image_to_bytes(card_art)\n",
    "        put_art_on_card(card_img, card_art)\n",
    "        sleep(2)\n",
    "        cardImg.value = image_to_bytes(card_img)"
   ]
  },
  {
   "cell_type": "code",
   "execution_count": null,
   "metadata": {},
   "outputs": [],
   "source": [
    "from time import sleep\n",
    "def generate_sample(_):\n",
    "    file_location, card_name = get_card_names_from_folder(folderLocationInput.value)[0]\n",
    "    generate_final_image(card_name, file_location)"
   ]
  },
  {
   "cell_type": "code",
   "execution_count": null,
   "metadata": {},
   "outputs": [],
   "source": [
    "import ipywidgets as widgets\n",
    "from ipywidgets import HBox, Label\n",
    "loadCardsBtn = widgets.Button(description=\"load sample\")\n",
    "loadCardsBtn.on_click(generate_sample)\n",
    "folderLocationInput = widgets.Text(value=\"My Cards\")\n",
    "\n",
    "cardImg = widgets.Image(format=\"jpg\")\n",
    "\n",
    "display(HBox([folderLocationInput, loadCardsBtn]))\n",
    "display(cardImg)"
   ]
  }
 ],
 "metadata": {
  "kernelspec": {
   "display_name": "Python 3.10.4 ('mtg')",
   "language": "python",
   "name": "python3"
  },
  "language_info": {
   "codemirror_mode": {
    "name": "ipython",
    "version": 3
   },
   "file_extension": ".py",
   "mimetype": "text/x-python",
   "name": "python",
   "nbconvert_exporter": "python",
   "pygments_lexer": "ipython3",
   "version": "3.10.4"
  },
  "orig_nbformat": 4,
  "vscode": {
   "interpreter": {
    "hash": "7fb8fd355859f9ef4ed3c45ec7a10d7f16b6a35880dc97474df4c9fea65ca814"
   }
  }
 },
 "nbformat": 4,
 "nbformat_minor": 2
}
