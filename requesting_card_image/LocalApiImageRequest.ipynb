{
 "cells": [
  {
   "cell_type": "code",
   "execution_count": 1,
   "metadata": {},
   "outputs": [],
   "source": [
    "import requests\n",
    "import base64\n",
    "import pandas\n",
    "import os\n",
    "from card_details_format import CardDetailsFormatter\n",
    "from IPython.display import Image\n",
    "import ipywidgets as widgets\n",
    "from ipywidgets import HBox"
   ]
  },
  {
   "cell_type": "code",
   "execution_count": 2,
   "metadata": {},
   "outputs": [],
   "source": [
    "def generate_image(card_details):\n",
    "    url = \"http://localhost:8080/\"\n",
    "    request_text = CardDetailsFormatter(**card_details).to_api_string()\n",
    "    body = {\"text\": request_text}\n",
    "    res = requests.post(url, json=body).json()\n",
    "    img = base64.b64decode(res['image'])\n",
    "    return img\n",
    "    "
   ]
  },
  {
   "cell_type": "markdown",
   "metadata": {},
   "source": [
    "check if a card was successfully generated bellow.\\\n",
    "Then you may generate the rest by going to the \\\n",
    "next cell. "
   ]
  },
  {
   "cell_type": "code",
   "execution_count": 3,
   "metadata": {},
   "outputs": [],
   "source": [
    "class CardsStorage:\n",
    "    def __init__(self):\n",
    "        self.cards = None\n",
    "store = CardsStorage()"
   ]
  },
  {
   "cell_type": "code",
   "execution_count": 4,
   "metadata": {},
   "outputs": [
    {
     "data": {
      "application/vnd.jupyter.widget-view+json": {
       "model_id": "d114f1733cb4497186dd5d9de51c4119",
       "version_major": 2,
       "version_minor": 0
      },
      "text/plain": [
       "HBox(children=(Text(value='My Cards.csv'), Button(description='load sample', style=ButtonStyle())))"
      ]
     },
     "metadata": {},
     "output_type": "display_data"
    },
    {
     "data": {
      "application/vnd.jupyter.widget-view+json": {
       "model_id": "21c6a03f63ee4dea820787557afd227b",
       "version_major": 2,
       "version_minor": 0
      },
      "text/plain": [
       "Image(value=b'', format='jpg')"
      ]
     },
     "metadata": {},
     "output_type": "display_data"
    },
    {
     "data": {
      "text/plain": [
       "{'name': 'Pychoon Titan',\n",
       " 'manaCost': '{3}{W}',\n",
       " 'type': 'Creature — Harrier',\n",
       " 'power': '0',\n",
       " 'toughness': '11',\n",
       " 'loyalty': nan,\n",
       " 'text': \"{R}: The next 0 damage that would be dealt to Pychoon Titan this turn as though it didn't have defender.\"}"
      ]
     },
     "metadata": {},
     "output_type": "display_data"
    },
    {
     "name": "stdout",
     "output_type": "stream",
     "text": [
      "|1Pychoon Titan|3{^^^WW}|4Creature|5|6Harrier|7rare|80/11|9{RR}: The next 0 damage that would be dealt to Pychoon Titan this turn as though it didn't have defender.\n"
     ]
    }
   ],
   "source": [
    "loadCardsBtn = widgets.Button(description=\"load sample\")\n",
    "fileLocationInput = widgets.Text(value=\"My Cards.csv\")\n",
    "cardImage = widgets.Image(\n",
    "    format='jpg',\n",
    ")\n",
    "def loadCards(b):\n",
    "    store.cards = pandas.read_csv(f\"../output/{fileLocationInput.value}\", index_col=0, dtype=str)\n",
    "    store.cards = store.cards.to_dict('records')\n",
    "    img = generate_image(store.cards[0])\n",
    "    cardImage.value = img\n",
    "loadCardsBtn.on_click(loadCards)\n",
    "display(HBox([fileLocationInput, loadCardsBtn]))\n",
    "display(cardImage)"
   ]
  },
  {
   "cell_type": "code",
   "execution_count": 5,
   "metadata": {},
   "outputs": [
    {
     "data": {
      "application/vnd.jupyter.widget-view+json": {
       "model_id": "c572ae0ee35045d0bd09f92fa7e9d472",
       "version_major": 2,
       "version_minor": 0
      },
      "text/plain": [
       "Button(description='save all to a folder', style=ButtonStyle())"
      ]
     },
     "metadata": {},
     "output_type": "display_data"
    },
    {
     "name": "stdout",
     "output_type": "stream",
     "text": [
      "|1Pychoon Titan|3{^^^WW}|4Creature|5|6Harrier|7rare|80/11|9{RR}: The next 0 damage that would be dealt to Pychoon Titan this turn as though it didn't have defender.\n"
     ]
    }
   ],
   "source": [
    "def save_all(b):\n",
    "    folder_name = fileLocationInput.value[:-4:]\n",
    "    os.mkdir(f\"../output/{folder_name}\")\n",
    "    for i,card in enumerate(store.cards):\n",
    "        with open(f\"../output/{folder_name}/({i+1})_{card['name']}.jpg\", \"wb\") as file:\n",
    "            img = generate_image(card)\n",
    "            file.write(img)\n",
    "saveCardsBtn = widgets.Button(description=\"save all to a folder\")\n",
    "saveCardsBtn.on_click(save_all)\n",
    "display(saveCardsBtn)"
   ]
  }
 ],
 "metadata": {
  "kernelspec": {
   "display_name": "Python 3.10.4 ('mtg')",
   "language": "python",
   "name": "python3"
  },
  "language_info": {
   "codemirror_mode": {
    "name": "ipython",
    "version": 3
   },
   "file_extension": ".py",
   "mimetype": "text/x-python",
   "name": "python",
   "nbconvert_exporter": "python",
   "pygments_lexer": "ipython3",
   "version": "3.10.4"
  },
  "orig_nbformat": 4,
  "vscode": {
   "interpreter": {
    "hash": "7fb8fd355859f9ef4ed3c45ec7a10d7f16b6a35880dc97474df4c9fea65ca814"
   }
  }
 },
 "nbformat": 4,
 "nbformat_minor": 2
}
