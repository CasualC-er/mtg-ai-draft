{
 "cells": [
  {
   "cell_type": "code",
   "execution_count": null,
   "metadata": {},
   "outputs": [],
   "source": [
    "import requests\n",
    "import base64\n",
    "import pandas\n",
    "import os\n",
    "from card_details_format import CardDetailsFormatter\n",
    "from IPython.display import Image\n",
    "import ipywidgets as widgets\n",
    "from ipywidgets import HBox"
   ]
  },
  {
   "cell_type": "code",
   "execution_count": null,
   "metadata": {},
   "outputs": [],
   "source": [
    "def generate_image(card_details):\n",
    "    url = \"http://localhost:8080/\"\n",
    "    request_text = CardDetailsFormatter(**card_details).to_api_string()\n",
    "    body = {\"text\": request_text}\n",
    "    res = requests.post(url, json=body).json()\n",
    "    img = base64.b64decode(res['image'])\n",
    "    return img\n",
    "    "
   ]
  },
  {
   "cell_type": "markdown",
   "metadata": {},
   "source": [
    "check if a card was successfully generated bellow.\\\n",
    "Then you may generate the rest by going to the \\\n",
    "next cell. "
   ]
  },
  {
   "cell_type": "code",
   "execution_count": null,
   "metadata": {},
   "outputs": [],
   "source": [
    "class CardsStorage:\n",
    "    def __init__(self):\n",
    "        self.cards = None\n",
    "store = CardsStorage()"
   ]
  },
  {
   "cell_type": "code",
   "execution_count": null,
   "metadata": {},
   "outputs": [],
   "source": [
    "loadCardsBtn = widgets.Button(description=\"load sample\")\n",
    "fileLocationInput = widgets.Text(value=\"My Cards.csv\")\n",
    "cardImage = widgets.Image(\n",
    "    format='jpg',\n",
    ")\n",
    "def loadCards(b):\n",
    "    store.cards = pandas.read_csv(f\"../output/{fileLocationInput.value}\", index_col=0, dtype=str)\n",
    "    store.cards = store.cards.to_dict('records')\n",
    "    img = generate_image(store.cards[0])\n",
    "    cardImage.value = img\n",
    "loadCardsBtn.on_click(loadCards)\n",
    "display(HBox([fileLocationInput, loadCardsBtn]))\n",
    "display(cardImage)"
   ]
  },
  {
   "cell_type": "code",
   "execution_count": null,
   "metadata": {},
   "outputs": [],
   "source": [
    "def save_all(b):\n",
    "    folder_name = fileLocationInput.value[:-4:]\n",
    "    os.mkdir(f\"../output/{folder_name}\")\n",
    "    for i,card in enumerate(store.cards):\n",
    "        with open(f\"../output/{folder_name}/({i+1})_{card['name']}.jpg\", \"wb\") as file:\n",
    "            img = generate_image(card)\n",
    "            file.write(img)\n",
    "saveCardsBtn = widgets.Button(description=\"save all to a folder\")\n",
    "saveCardsBtn.on_click(save_all)\n",
    "display(saveCardsBtn)"
   ]
  }
 ],
 "metadata": {
  "kernelspec": {
   "display_name": "Python 3.10.4 ('mtg')",
   "language": "python",
   "name": "python3"
  },
  "language_info": {
   "codemirror_mode": {
    "name": "ipython",
    "version": 3
   },
   "file_extension": ".py",
   "mimetype": "text/x-python",
   "name": "python",
   "nbconvert_exporter": "python",
   "pygments_lexer": "ipython3",
   "version": "3.10.4"
  },
  "orig_nbformat": 4,
  "vscode": {
   "interpreter": {
    "hash": "7fb8fd355859f9ef4ed3c45ec7a10d7f16b6a35880dc97474df4c9fea65ca814"
   }
  }
 },
 "nbformat": 4,
 "nbformat_minor": 2
}
