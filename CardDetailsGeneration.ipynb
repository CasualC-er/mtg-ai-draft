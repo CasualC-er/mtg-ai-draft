{
 "cells": [
  {
   "cell_type": "code",
   "execution_count": 1,
   "metadata": {},
   "outputs": [],
   "source": [
    "#imports\n",
    "import pandas as pd\n",
    "from aitextgen import aitextgen\n",
    "import ipywidgets as widgets"
   ]
  },
  {
   "cell_type": "code",
   "execution_count": 2,
   "metadata": {},
   "outputs": [],
   "source": [
    "# pandas options for bigger grids\n",
    "pd.set_option('display.max_columns', None)  # or 1000\n",
    "pd.set_option('display.max_rows', None)  # or 1000\n",
    "pd.set_option('display.max_colwidth', None)  # or 199"
   ]
  },
  {
   "cell_type": "code",
   "execution_count": 3,
   "metadata": {},
   "outputs": [
    {
     "name": "stderr",
     "output_type": "stream",
     "text": [
      "Could not locate the tokenizer configuration file, will try to use the model config instead.\n",
      "loading file https://huggingface.co/minimaxir/magic-the-gathering/resolve/main/vocab.json from cache at None\n",
      "loading file https://huggingface.co/minimaxir/magic-the-gathering/resolve/main/merges.txt from cache at None\n",
      "loading file https://huggingface.co/minimaxir/magic-the-gathering/resolve/main/tokenizer.json from cache at aitextgen/b1431d1de2fe5eabc1480965cc002593e0a1e07de5baaabbb66474fa2b5770d8.862a5b76401704bc81e91e440c522f95164df652d01d290de56ebc2896c47a98\n",
      "loading file https://huggingface.co/minimaxir/magic-the-gathering/resolve/main/added_tokens.json from cache at None\n",
      "loading file https://huggingface.co/minimaxir/magic-the-gathering/resolve/main/special_tokens_map.json from cache at None\n",
      "loading file https://huggingface.co/minimaxir/magic-the-gathering/resolve/main/tokenizer_config.json from cache at None\n"
     ]
    }
   ],
   "source": [
    "# Download and load the model. \n",
    "# Set to_gpu=False if running on a CPU.\n",
    "ai = aitextgen(model=\"minimaxir/magic-the-gathering\", to_gpu=False)\n"
   ]
  },
  {
   "cell_type": "code",
   "execution_count": 4,
   "metadata": {},
   "outputs": [],
   "source": [
    "def generate_card_details(_):\n",
    "    prompt=promptInput.value\n",
    "    craziness = crazinessSlider.value\n",
    "    numOfCards = batch_size = numOfCardsInput.value\n",
    "\n",
    "    cards = ai.generate(n=numOfCards,\n",
    "                        batch_size=batch_size,\n",
    "                        schema=True,\n",
    "                        prompt=prompt,\n",
    "                        temperature=craziness,\n",
    "                        return_as_list=True)\n",
    "\n",
    "    cards = pd.DataFrame(list(cards))\n",
    "    cards['text'] = cards.apply(lambda row: row['text'].replace(\"~\", row['name']), axis=1)\n",
    "    cards = cards[['name', 'manaCost', 'type', 'power', 'toughness','loyalty','text']]\n",
    "    cardTable.value = cards.to_html()"
   ]
  },
  {
   "cell_type": "code",
   "execution_count": 5,
   "metadata": {},
   "outputs": [
    {
     "data": {
      "application/vnd.jupyter.widget-view+json": {
       "model_id": "b15752c77bc24cce81285938553b3d70",
       "version_major": 2,
       "version_minor": 0
      },
      "text/plain": [
       "HBox(children=(Label(value='custom card prompt:'), Text(value='', layout=Layout(width='70vw'), placeholder='ex…"
      ]
     },
     "metadata": {},
     "output_type": "display_data"
    },
    {
     "data": {
      "application/vnd.jupyter.widget-view+json": {
       "model_id": "8a7f087bf3e54158a1b914d6f85a556f",
       "version_major": 2,
       "version_minor": 0
      },
      "text/plain": [
       "VBox(children=(Label(value='(prompt list: <|name|>, <|manaCost|>, <|type|>, <|text|>,'), Label(value='<|power|…"
      ]
     },
     "metadata": {},
     "output_type": "display_data"
    },
    {
     "data": {
      "application/vnd.jupyter.widget-view+json": {
       "model_id": "39e7679c56bb4ee99bbbb7c7b9a98d4b",
       "version_major": 2,
       "version_minor": 0
      },
      "text/plain": [
       "HBox(children=(Label(value='craziness:'), FloatSlider(value=0.7, max=1.3, min=0.5)))"
      ]
     },
     "metadata": {},
     "output_type": "display_data"
    },
    {
     "data": {
      "application/vnd.jupyter.widget-view+json": {
       "model_id": "cba6b01589d9475cbc51afde91d67053",
       "version_major": 2,
       "version_minor": 0
      },
      "text/plain": [
       "HBox(children=(Label(value='number of cards to generate:'), BoundedIntText(value=3, layout=Layout(width='5vw')…"
      ]
     },
     "metadata": {},
     "output_type": "display_data"
    },
    {
     "data": {
      "application/vnd.jupyter.widget-view+json": {
       "model_id": "b514686daf6747f5b10bc9efeab6735f",
       "version_major": 2,
       "version_minor": 0
      },
      "text/plain": [
       "Button(description='Generate', style=ButtonStyle())"
      ]
     },
     "metadata": {},
     "output_type": "display_data"
    },
    {
     "data": {
      "application/vnd.jupyter.widget-view+json": {
       "model_id": "ab0647898a69446e9dc597d79eba2535",
       "version_major": 2,
       "version_minor": 0
      },
      "text/plain": [
       "HTML(value='')"
      ]
     },
     "metadata": {},
     "output_type": "display_data"
    }
   ],
   "source": [
    "# widgets\n",
    "from ipywidgets import HBox, VBox, Label, Layout\n",
    "\n",
    "wider = Layout(width=\"70vw\")\n",
    "less_wide = Layout(width=\"5vw\")\n",
    "promptInput = widgets.Text(placeholder='ex: <|type|>Creature - Goblin<|manaCost|>{2}{R}', layout=wider)\n",
    "crazinessSlider = widgets.FloatSlider(.7,min=0.5,max=1.3)\n",
    "numOfCardsInput = widgets.BoundedIntText(3,min=1,max=100,layout=less_wide)\n",
    "generateCardsButton = widgets.Button(description=\"Generate\")\n",
    "cardTable = widgets.HTML()\n",
    "\n",
    "generateCardsButton.on_click(generate_card_details)\n",
    "\n",
    "display(HBox([Label(\"custom card prompt:\"), promptInput]))\n",
    "display(VBox([\n",
    "    Label(\"(prompt list: <|name|>, <|manaCost|>, <|type|>, <|text|>,\"),\n",
    "    Label(\"<|power|>, <|toughness|>, <|loyalty|>)\")\n",
    "]))\n",
    "display(HBox([Label(\"craziness:\"), crazinessSlider]))\n",
    "display(HBox([Label(\"number of cards to generate:\"), numOfCardsInput]))\n",
    "display(generateCardsButton)\n",
    "display(cardTable)"
   ]
  },
  {
   "cell_type": "code",
   "execution_count": 9,
   "metadata": {},
   "outputs": [
    {
     "data": {
      "application/vnd.jupyter.widget-view+json": {
       "model_id": "c6e22d55120047b393d607834b824cd0",
       "version_major": 2,
       "version_minor": 0
      },
      "text/plain": [
       "HBox(children=(Text(value='My Cards.csv'), Button(description='save cards', style=ButtonStyle())))"
      ]
     },
     "metadata": {},
     "output_type": "display_data"
    }
   ],
   "source": [
    "saveCardsBtn = widgets.Button(description=\"save cards\")\n",
    "fileLocationInput = widgets.Text(value=\"My Cards.csv\")\n",
    "\n",
    "def saveCards(b):\n",
    "    cards = pd.read_html(cardTable.value)[0]\n",
    "    cards.to_csv(f'./output/{fileLocationInput.value}')\n",
    "\n",
    "saveCardsBtn.on_click(saveCards)\n",
    "display(HBox([fileLocationInput, saveCardsBtn]))"
   ]
  }
 ],
 "metadata": {
  "kernelspec": {
   "display_name": "Python 3.10.4 ('mtg')",
   "language": "python",
   "name": "python3"
  },
  "language_info": {
   "codemirror_mode": {
    "name": "ipython",
    "version": 3
   },
   "file_extension": ".py",
   "mimetype": "text/x-python",
   "name": "python",
   "nbconvert_exporter": "python",
   "pygments_lexer": "ipython3",
   "version": "3.10.4"
  },
  "orig_nbformat": 4,
  "vscode": {
   "interpreter": {
    "hash": "7fb8fd355859f9ef4ed3c45ec7a10d7f16b6a35880dc97474df4c9fea65ca814"
   }
  }
 },
 "nbformat": 4,
 "nbformat_minor": 2
}
