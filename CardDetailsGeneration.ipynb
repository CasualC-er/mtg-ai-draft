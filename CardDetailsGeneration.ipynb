{
 "cells": [
  {
   "cell_type": "code",
   "execution_count": null,
   "metadata": {},
   "outputs": [],
   "source": [
    "#imports\n",
    "import pandas as pd\n",
    "from aitextgen import aitextgen\n",
    "import ipywidgets as widgets"
   ]
  },
  {
   "cell_type": "code",
   "execution_count": null,
   "metadata": {},
   "outputs": [],
   "source": [
    "# pandas options for bigger grids\n",
    "pd.set_option('display.max_columns', None)  # or 1000\n",
    "pd.set_option('display.max_rows', None)  # or 1000\n",
    "pd.set_option('display.max_colwidth', None)  # or 199"
   ]
  },
  {
   "cell_type": "code",
   "execution_count": null,
   "metadata": {},
   "outputs": [],
   "source": [
    "# Download and load the model. \n",
    "# Set to_gpu=False if running on a CPU.\n",
    "ai = aitextgen(model=\"minimaxir/magic-the-gathering\", to_gpu=False)\n"
   ]
  },
  {
   "cell_type": "code",
   "execution_count": null,
   "metadata": {},
   "outputs": [],
   "source": [
    "# widgets\n",
    "from ipywidgets import HBox, VBox, Label, Layout\n",
    "\n",
    "wider = Layout(width=\"70vw\")\n",
    "less_wide = Layout(width=\"5vw\")\n",
    "promptInput = widgets.Text(placeholder='ex: <|type|>Creature - Goblin<|manaCost|>{2}{R}', layout=wider)\n",
    "crazinessSlider = widgets.FloatSlider(.7,min=0.5,max=1.3)\n",
    "numOfCardsInput = widgets.BoundedIntText(3,min=1,max=100,layout=less_wide)\n",
    "\n",
    "display(HBox([Label(\"custom card prompt:\"), promptInput]))\n",
    "display(VBox([\n",
    "    Label(\"(prompt list: <|name|>, <|manaCost|>, <|type|>, <|text|>,\"),\n",
    "    Label(\"<|power|>, <|toughness|>, <|loyalty|>)\")\n",
    "]))\n",
    "display(HBox([Label(\"craziness:\"), crazinessSlider]))\n",
    "display(HBox([Label(\"number of cards to generate:\"), numOfCardsInput]))"
   ]
  },
  {
   "cell_type": "markdown",
   "metadata": {},
   "source": [
    "comment or remove the first line in the next block to continue"
   ]
  },
  {
   "cell_type": "code",
   "execution_count": null,
   "metadata": {},
   "outputs": [],
   "source": [
    "# return;\n",
    "prompt=promptInput.value\n",
    "craziness = crazinessSlider.value\n",
    "numOfCards = batch_size = numOfCardsInput.value\n",
    "\n",
    "cards = ai.generate(n=numOfCards,\n",
    "                    batch_size=batch_size,\n",
    "                    schema=True,\n",
    "                    prompt=prompt,\n",
    "                    temperature=craziness,\n",
    "                    return_as_list=True)\n",
    "\n",
    "cards = pd.DataFrame(list(cards))\n",
    "cards['text'] = cards.apply(lambda row: row['text'].replace(\"~\", row['name']), axis=1)\n",
    "cards = cards[['name', 'manaCost', 'type', 'power', 'toughness','loyalty','text']]\n",
    "display(cards)"
   ]
  },
  {
   "cell_type": "code",
   "execution_count": null,
   "metadata": {},
   "outputs": [],
   "source": [
    "saveCardsBtn = widgets.Button(description=\"save cards\")\n",
    "fileLocationInput = widgets.Text(value=\"My Cards.csv\")\n",
    "\n",
    "def saveCards(b):\n",
    "    cards.to_csv(f'./output/{fileLocationInput.value}')\n",
    "    pass\n",
    "\n",
    "saveCardsBtn.on_click(saveCards)\n",
    "display(HBox([fileLocationInput, saveCardsBtn]))"
   ]
  }
 ],
 "metadata": {
  "kernelspec": {
   "display_name": "Python 3.10.4 ('mtg')",
   "language": "python",
   "name": "python3"
  },
  "language_info": {
   "codemirror_mode": {
    "name": "ipython",
    "version": 3
   },
   "file_extension": ".py",
   "mimetype": "text/x-python",
   "name": "python",
   "nbconvert_exporter": "python",
   "pygments_lexer": "ipython3",
   "version": "3.10.4"
  },
  "orig_nbformat": 4,
  "vscode": {
   "interpreter": {
    "hash": "7fb8fd355859f9ef4ed3c45ec7a10d7f16b6a35880dc97474df4c9fea65ca814"
   }
  }
 },
 "nbformat": 4,
 "nbformat_minor": 2
}
