{
 "cells": [
  {
   "cell_type": "code",
   "execution_count": 57,
   "metadata": {},
   "outputs": [],
   "source": [
    "import pandas as pd\n",
    "from aitextgen import aitextgen\n",
    "import ipywidgets as widgets"
   ]
  },
  {
   "cell_type": "code",
   "execution_count": 58,
   "metadata": {},
   "outputs": [],
   "source": [
    "# pandas options for bigger grids\n",
    "pd.set_option('display.max_columns', None)  # or 1000\n",
    "pd.set_option('display.max_rows', None)  # or 1000\n",
    "pd.set_option('display.max_colwidth', None)  # or 199"
   ]
  },
  {
   "cell_type": "code",
   "execution_count": 59,
   "metadata": {},
   "outputs": [
    {
     "name": "stderr",
     "output_type": "stream",
     "text": [
      "Could not locate the tokenizer configuration file, will try to use the model config instead.\n",
      "loading file https://huggingface.co/minimaxir/magic-the-gathering/resolve/main/vocab.json from cache at None\n",
      "loading file https://huggingface.co/minimaxir/magic-the-gathering/resolve/main/merges.txt from cache at None\n",
      "loading file https://huggingface.co/minimaxir/magic-the-gathering/resolve/main/tokenizer.json from cache at aitextgen/b1431d1de2fe5eabc1480965cc002593e0a1e07de5baaabbb66474fa2b5770d8.862a5b76401704bc81e91e440c522f95164df652d01d290de56ebc2896c47a98\n",
      "loading file https://huggingface.co/minimaxir/magic-the-gathering/resolve/main/added_tokens.json from cache at None\n",
      "loading file https://huggingface.co/minimaxir/magic-the-gathering/resolve/main/special_tokens_map.json from cache at None\n",
      "loading file https://huggingface.co/minimaxir/magic-the-gathering/resolve/main/tokenizer_config.json from cache at None\n"
     ]
    }
   ],
   "source": [
    "# Download and load the model. Set to_gpu=False if running on a CPU.\n",
    "ai = aitextgen(model=\"minimaxir/magic-the-gathering\", to_gpu=False)\n"
   ]
  },
  {
   "cell_type": "code",
   "execution_count": 72,
   "metadata": {},
   "outputs": [
    {
     "data": {
      "application/vnd.jupyter.widget-view+json": {
       "model_id": "65a63e036b734df1b6a0ae1cf4ac2d09",
       "version_major": 2,
       "version_minor": 0
      },
      "text/plain": [
       "HBox(children=(Label(value='custom card prompt:'), Text(value='', layout=Layout(width='70vw'), placeholder='ex…"
      ]
     },
     "metadata": {},
     "output_type": "display_data"
    },
    {
     "data": {
      "application/vnd.jupyter.widget-view+json": {
       "model_id": "0a88be8a913d4b59975673d885e2a3d1",
       "version_major": 2,
       "version_minor": 0
      },
      "text/plain": [
       "VBox(children=(Label(value='(prompt list: <|name|>, <|manaCost|>, <|type|>, <|text|>,'), Label(value='<|power|…"
      ]
     },
     "metadata": {},
     "output_type": "display_data"
    },
    {
     "data": {
      "application/vnd.jupyter.widget-view+json": {
       "model_id": "148738af79364424854e52ae2c6e212e",
       "version_major": 2,
       "version_minor": 0
      },
      "text/plain": [
       "HBox(children=(Label(value='craziness:'), FloatSlider(value=0.7, max=1.3, min=0.5)))"
      ]
     },
     "metadata": {},
     "output_type": "display_data"
    },
    {
     "data": {
      "application/vnd.jupyter.widget-view+json": {
       "model_id": "b456c0f5fbb74356add6e55957db8a39",
       "version_major": 2,
       "version_minor": 0
      },
      "text/plain": [
       "HBox(children=(Label(value='number of cards to generate:'), BoundedIntText(value=3, layout=Layout(width='5vw')…"
      ]
     },
     "metadata": {},
     "output_type": "display_data"
    }
   ],
   "source": [
    "from ipywidgets import HBox, VBox, Label, Layout\n",
    "\n",
    "wider = Layout(width=\"70vw\")\n",
    "less_wide = Layout(width=\"5vw\")\n",
    "promptInput = widgets.Text(placeholder='ex: <|type|>Creature - Goblin<|manaCost|>{2}{R}', layout=wider)\n",
    "crazinessSlider = widgets.FloatSlider(.7,min=0.5,max=1.3)\n",
    "numOfCardsInput = widgets.BoundedIntText(3,min=1,max=100,layout=less_wide)\n",
    "\n",
    "display(HBox([Label(\"custom card prompt:\"), promptInput]))\n",
    "display(VBox([\n",
    "    Label(\"(prompt list: <|name|>, <|manaCost|>, <|type|>, <|text|>,\"),\n",
    "    Label(\"<|power|>, <|toughness|>, <|loyalty|>)\")\n",
    "]))\n",
    "display(HBox([Label(\"craziness:\"), crazinessSlider]))\n",
    "display(HBox([Label(\"number of cards to generate:\"), numOfCardsInput]))"
   ]
  },
  {
   "cell_type": "markdown",
   "metadata": {},
   "source": [
    "comment or remove the first line in the next block to continue"
   ]
  },
  {
   "cell_type": "code",
   "execution_count": 82,
   "metadata": {},
   "outputs": [
    {
     "data": {
      "text/html": [
       "<div>\n",
       "<style scoped>\n",
       "    .dataframe tbody tr th:only-of-type {\n",
       "        vertical-align: middle;\n",
       "    }\n",
       "\n",
       "    .dataframe tbody tr th {\n",
       "        vertical-align: top;\n",
       "    }\n",
       "\n",
       "    .dataframe thead th {\n",
       "        text-align: right;\n",
       "    }\n",
       "</style>\n",
       "<table border=\"1\" class=\"dataframe\">\n",
       "  <thead>\n",
       "    <tr style=\"text-align: right;\">\n",
       "      <th></th>\n",
       "      <th>name</th>\n",
       "      <th>manaCost</th>\n",
       "      <th>type</th>\n",
       "      <th>power</th>\n",
       "      <th>toughness</th>\n",
       "      <th>loyalty</th>\n",
       "      <th>text</th>\n",
       "    </tr>\n",
       "  </thead>\n",
       "  <tbody>\n",
       "    <tr>\n",
       "      <th>0</th>\n",
       "      <td>Crueling / Test Sultai</td>\n",
       "      <td></td>\n",
       "      <td>Scorcery - Jew</td>\n",
       "      <td></td>\n",
       "      <td></td>\n",
       "      <td></td>\n",
       "      <td>Scry 2. (Look at the top two cards of your library, then put any number of them on the bottom of your library and the rest on top in any order.)</td>\n",
       "    </tr>\n",
       "    <tr>\n",
       "      <th>1</th>\n",
       "      <td>Jagwa Pacts</td>\n",
       "      <td>{B}</td>\n",
       "      <td>Scorcery - Jew</td>\n",
       "      <td></td>\n",
       "      <td></td>\n",
       "      <td></td>\n",
       "      <td>Scry 1. (Look at the top card of your library. You may put that card into your graveyard.)\\nDraw a card at the beginning of the next turn's upkeep.</td>\n",
       "    </tr>\n",
       "    <tr>\n",
       "      <th>2</th>\n",
       "      <td>Turn Affliction</td>\n",
       "      <td>{4}{G}{G}</td>\n",
       "      <td>Scorcery - Jew</td>\n",
       "      <td></td>\n",
       "      <td></td>\n",
       "      <td></td>\n",
       "      <td>Scry X, where X is the number of Forests you control. (To scry 1, look at the top card of your library, then you may put that card on the bottom of your library.)</td>\n",
       "    </tr>\n",
       "  </tbody>\n",
       "</table>\n",
       "</div>"
      ],
      "text/plain": [
       "                     name   manaCost            type power toughness loyalty  \\\n",
       "0  Crueling / Test Sultai             Scorcery - Jew                           \n",
       "1             Jagwa Pacts        {B}  Scorcery - Jew                           \n",
       "2         Turn Affliction  {4}{G}{G}  Scorcery - Jew                           \n",
       "\n",
       "                                                                                                                                                                 text  \n",
       "0                    Scry 2. (Look at the top two cards of your library, then put any number of them on the bottom of your library and the rest on top in any order.)  \n",
       "1                 Scry 1. (Look at the top card of your library. You may put that card into your graveyard.)\\nDraw a card at the beginning of the next turn's upkeep.  \n",
       "2  Scry X, where X is the number of Forests you control. (To scry 1, look at the top card of your library, then you may put that card on the bottom of your library.)  "
      ]
     },
     "metadata": {},
     "output_type": "display_data"
    }
   ],
   "source": [
    "return;\n",
    "# <|power|>*<|toughness|>*<|type|>Creature - Goblin<|name|>Goblin <|text|>haste <|manaCost|>\n",
    "prompt=promptInput.value\n",
    "craziness = crazinessSlider.value\n",
    "numOfCards = batch_size = numOfCardsInput.value\n",
    "\n",
    "cards = ai.generate(n=numOfCards,\n",
    "                    batch_size=batch_size,\n",
    "                    schema=True,\n",
    "                    prompt=prompt,\n",
    "                    temperature=craziness,\n",
    "                    return_as_list=True)\n",
    "\n",
    "cards = pd.DataFrame(list(cards))\n",
    "cards['text'] = cards.apply(lambda row: row['text'].replace(\"~\", row['name']), axis=1)\n",
    "cards = cards[['name', 'manaCost', 'type', 'power', 'toughness','loyalty','text']]\n",
    "display(cards)"
   ]
  },
  {
   "cell_type": "code",
   "execution_count": null,
   "metadata": {},
   "outputs": [],
   "source": [
    "print(\"hi\")"
   ]
  }
 ],
 "metadata": {
  "kernelspec": {
   "display_name": "Python 3.10.4 ('mtg')",
   "language": "python",
   "name": "python3"
  },
  "language_info": {
   "codemirror_mode": {
    "name": "ipython",
    "version": 3
   },
   "file_extension": ".py",
   "mimetype": "text/x-python",
   "name": "python",
   "nbconvert_exporter": "python",
   "pygments_lexer": "ipython3",
   "version": "3.10.4"
  },
  "orig_nbformat": 4,
  "vscode": {
   "interpreter": {
    "hash": "7fb8fd355859f9ef4ed3c45ec7a10d7f16b6a35880dc97474df4c9fea65ca814"
   }
  }
 },
 "nbformat": 4,
 "nbformat_minor": 2
}
